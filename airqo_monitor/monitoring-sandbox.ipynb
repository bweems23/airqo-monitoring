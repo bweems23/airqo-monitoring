{
 "cells": [
  {
   "cell_type": "code",
   "execution_count": 31,
   "metadata": {},
   "outputs": [],
   "source": [
    "from airqo_device_monitor.format_data import get_and_format_data_for_all_channels\n",
    "from datetime import datetime, timedelta"
   ]
  },
  {
   "cell_type": "code",
   "execution_count": 51,
   "metadata": {},
   "outputs": [],
   "source": [
    "start_time = datetime.utcnow() - timedelta(days=1)\n",
    "data = get_and_format_data_for_all_channels(start_time=start_time)"
   ]
  },
  {
   "cell_type": "code",
   "execution_count": 45,
   "metadata": {},
   "outputs": [],
   "source": [
    "public_data = {key: val for key, val in data.items() if len(val) > 0}\n",
    "channel_data = public_data.values()[1]\n",
    "dt = datetime.strptime(channel_data[-1].created_at, '%Y-%m-%dT%H:%M:%SZ') "
   ]
  },
  {
   "cell_type": "code",
   "execution_count": 50,
   "metadata": {},
   "outputs": [
    {
     "data": {
      "text/plain": [
       "False"
      ]
     },
     "execution_count": 50,
     "metadata": {},
     "output_type": "execute_result"
    }
   ],
   "source": [
    "dt < datetime.utcnow() - timedelta(minutes=5)"
   ]
  },
  {
   "cell_type": "code",
   "execution_count": 40,
   "metadata": {},
   "outputs": [
    {
     "data": {
      "text/plain": [
       "datetime.datetime(2018, 10, 22, 0, 13, 59)"
      ]
     },
     "execution_count": 40,
     "metadata": {},
     "output_type": "execute_result"
    }
   ],
   "source": [
    "dt"
   ]
  },
  {
   "cell_type": "code",
   "execution_count": 41,
   "metadata": {},
   "outputs": [
    {
     "data": {
      "text/plain": [
       "datetime.datetime(2018, 10, 22, 8, 57, 2, 664084)"
      ]
     },
     "execution_count": 41,
     "metadata": {},
     "output_type": "execute_result"
    }
   ],
   "source": [
    "datetime.utcnow()"
   ]
  },
  {
   "cell_type": "code",
   "execution_count": 54,
   "metadata": {},
   "outputs": [
    {
     "data": {
      "text/plain": [
       "{'battery_voltage': u'    4.50',\n",
       " 'channel_id': 324682,\n",
       " 'created_at': u'2018-10-22T09:01:52Z',\n",
       " 'entry_id': 82678,\n",
       " 'latitude': u'1000.000000',\n",
       " 'longitude': u'1000.000000',\n",
       " 'pm_1': u'    0.89',\n",
       " 'pm_10': u'    3.97',\n",
       " 'pm_2_5': u'    1.80',\n",
       " 'sample_period': u'    1.39'}"
      ]
     },
     "execution_count": 54,
     "metadata": {},
     "output_type": "execute_result"
    }
   ],
   "source": [
    "channel_data[-1].__dict__"
   ]
  },
  {
   "cell_type": "code",
   "execution_count": 43,
   "metadata": {},
   "outputs": [
    {
     "data": {
      "text/plain": [
       "327840"
      ]
     },
     "execution_count": 43,
     "metadata": {},
     "output_type": "execute_result"
    }
   ],
   "source": [
    "public_data.keys()[0]"
   ]
  },
  {
   "cell_type": "code",
   "execution_count": 87,
   "metadata": {},
   "outputs": [],
   "source": [
    "LOW_BATTERY_CUTOFF = 3.5\n",
    "NUM_REPORTS_TO_VERIFY_SENSOR_MALFUNCTION = 10\n",
    "NUM_REPORTS_TO_VERIFY_MALFUNCTION = 10\n",
    "MAXIMUM_AVERAGE_SECONDS_BETWEEN_REPORTS = 2\n",
    "SENSOR_PM_2_5_MIN_CUTOFF = 1.0\n",
    "SENSOR_PM_2_5_MAX_CUTOFF = 1000.0\n",
    "ALLOWABLE_OUTLIER_SENSOR_RATIO = 0.2\n",
    "\n",
    "LOW_BATTERY_MALFUNCTION_COMMENT = \"The device has low battery.\"\n",
    "LOW_REPORTING_FREQUENCY_COMMENT = \"The device is reporting at low frequency.\"\n",
    "EXTREME_SENSOR_READINGS_COMMENT = \"The device's sensor is reporting outlier readings, it may be obstructed.\"\n",
    "\n",
    "def get_channel_malfunction_reasons(channel_data):\n",
    "    malfunction_list = []\n",
    "    if has_low_battery(channel_data):\n",
    "        malfunction_list.append(\"low_battery\")\n",
    "    if has_low_reporting_frequency(channel_data):\n",
    "        malfunction_list.append(\"low_reporting_frequency\")\n",
    "    if may_be_obstructed(channel_data):\n",
    "        malfunction_list.append(\"obstructed_channel\")\n",
    "    return malfunction_list\n",
    "    \n",
    "    \n",
    "def has_low_battery(channel_data):\n",
    "    last_voltage = float(channel_data[-1].battery_voltage)\n",
    "    return last_voltage < LOW_BATTERY_CUTOFF\n",
    "    \n",
    "    \n",
    "def has_low_reporting_frequency(channel_data):\n",
    "    index_to_verify = min(len(channel_data), NUM_REPORTS_TO_VERIFY_MALFUNCTION)\n",
    "    report_to_verify = channel_data[-1 * index_to_verify]\n",
    "    time_to_submit_reports = datetime.strptime(report_to_verify.created_at, '%Y-%m-%dT%H:%M:%SZ')\n",
    "    cutoff_time = datetime.utcnow() - timedelta(seconds=MAXIMUM_AVERAGE_SECONDS_BETWEEN_REPORTS * index_to_verify)\n",
    "    return time_to_submit_reports < cutoff_time\n",
    "\n",
    "def may_be_obstructed(channel_data):\n",
    "    num_points = min(NUM_REPORTS_TO_VERIFY_SENSOR_MALFUNCTION, len(channel_data))\n",
    "    is_outlier = lambda pm_2_5: pm_2_5 < SENSOR_PM_2_5_MIN_CUTOFF or pm_2_5 > SENSOR_PM_2_5_MAX_CUTOFF\n",
    "    extreme_reads = [entry for entry in channel_data[-1 * num_points:] if is_outlier(float(entry.pm_2_5))]\n",
    "    for point in extreme_reads:\n",
    "        print point.pm_2_5\n",
    "    return len(extreme_reads) > num_points * ALLOWABLE_OUTLIER_SENSOR_RATIO"
   ]
  },
  {
   "cell_type": "code",
   "execution_count": 80,
   "metadata": {},
   "outputs": [
    {
     "name": "stdout",
     "output_type": "stream",
     "text": [
      "Key: 327840 \t Malfunction Reasons: ['low_battery']\n",
      "Key: 324682 \t Malfunction Reasons: []\n",
      "Key: 318099 \t Malfunction Reasons: []\n",
      "Key: 309890 \t Malfunction Reasons: ['low_battery']\n",
      "Key: 295702 \t Malfunction Reasons: []\n"
     ]
    }
   ],
   "source": [
    "for channel_id, channel_data in public_data.items():\n",
    "    channel_malfunctions = get_channel_malfunction_reasons(channel_data)\n",
    "    print \"Key: {} \\t Malfunction Reasons: {}\".format(channel_id, channel_malfunctions)"
   ]
  },
  {
   "cell_type": "code",
   "execution_count": 92,
   "metadata": {},
   "outputs": [],
   "source": [
    "from airqo_device_monitor.format_data import get_and_format_data_for_all_channels\n",
    "from datetime import datetime, timedelta\n",
    "\n",
    "\n",
    "def _get_channel_malfunctions(channel_data):\n",
    "    \"\"\"Use channel_data to get a list of malfunctions that may be occuring with a channel.\"\"\"\n",
    "    malfunction_list = []\n",
    "    if _has_low_battery(channel_data):\n",
    "        malfunction_list.append(\"low_battery_voltage\")\n",
    "    if _has_low_reporting_frequency(channel_data):\n",
    "        malfunction_list.append(\"low_reporting_frequency\")\n",
    "    if _sensor_is_reporting_outliers(channel_data):\n",
    "        malfunction_list.append(\"reporting_outliers\")\n",
    "    return malfunction_list\n",
    "\n",
    "\n",
    "def _has_low_battery(channel_data):\n",
    "    \"\"\"Determine whether the channel has low battery.\"\"\"\n",
    "    last_voltage = float(channel_data[-1].battery_voltage)\n",
    "    return last_voltage < LOW_BATTERY_CUTOFF\n",
    "\n",
    "\n",
    "def _has_low_reporting_frequency(channel_data):\n",
    "    \"\"\"Determine whether the channel is reporting data at a lower frequency than expected.\"\"\"\n",
    "    index_to_verify = min(len(channel_data), NUM_REPORTS_TO_VERIFY_MALFUNCTION)\n",
    "    report_to_verify = channel_data[-1 * index_to_verify]\n",
    "    time_to_submit_reports = datetime.strptime(report_to_verify.created_at, '%Y-%m-%dT%H:%M:%SZ')\n",
    "    cutoff_time = datetime.utcnow() - timedelta(seconds=MAXIMUM_AVERAGE_SECONDS_BETWEEN_REPORTS * index_to_verify)\n",
    "    return time_to_submit_reports < cutoff_time\n",
    "\n",
    "\n",
    "def _sensor_is_reporting_outliers(channel_data):\n",
    "    \"\"\"Determine whether the sensor is reporting points outside the reasonable range.\n",
    "\n",
    "    Presence of outlier points may indicated an obstructed sensor.\n",
    "    \"\"\"\n",
    "    num_points = min(NUM_REPORTS_TO_VERIFY_SENSOR_MALFUNCTION, len(channel_data))\n",
    "    is_outlier = lambda pm_2_5: pm_2_5 < SENSOR_PM_2_5_MIN_CUTOFF or pm_2_5 > SENSOR_PM_2_5_MAX_CUTOFF\n",
    "    extreme_reads = [entry for entry in channel_data[-1 * num_points:] if is_outlier(float(entry.pm_2_5))]\n",
    "    for point in extreme_reads:\n",
    "        print point.pm_2_5\n",
    "    return len(extreme_reads) > num_points * ALLOWABLE_OUTLIER_SENSOR_RATIO\n",
    "\n",
    "def get_all_channel_malfunctions():\n",
    "    \"\"\"Generate a list of malfunctions for all channels.\n",
    "\n",
    "    Returns: A dict keyed by the channel id. The value is a list of potential concerns about a sensor.\n",
    "    \"\"\"\n",
    "    malfunctions = {}\n",
    "    start_time = datetime.utcnow() - timedelta(minutes=30)\n",
    "    all_data = get_and_format_data_for_all_channels(start_time=start_time)\n",
    "    unusable_ids = [key for key in data.keys() if len(data[key]) == 0]\n",
    "    for channel_id in unusable_ids:\n",
    "        malfunctions[channel_id] = [\"no_data\"]\n",
    "\n",
    "    usable_data = {key: val for key, val in data.items() if len(val) > 0}\n",
    "    for channel_id, channel_data in public_data.items():\n",
    "        malfunctions[channel_id] = _get_channel_malfunctions(channel_data)\n",
    "\n",
    "    return malfunctions"
   ]
  },
  {
   "cell_type": "code",
   "execution_count": 93,
   "metadata": {},
   "outputs": [],
   "source": [
    "malfunctions = get_all_channel_malfunctions()"
   ]
  },
  {
   "cell_type": "code",
   "execution_count": 94,
   "metadata": {},
   "outputs": [
    {
     "data": {
      "text/plain": [
       "{99649: ['no_data'],\n",
       " 183070: ['no_data'],\n",
       " 223586: ['no_data'],\n",
       " 241694: ['no_data'],\n",
       " 265435: ['no_data'],\n",
       " 268271: ['no_data'],\n",
       " 284171: ['no_data'],\n",
       " 295702: ['low_reporting_frequency'],\n",
       " 309890: ['low_battery_voltage', 'low_reporting_frequency'],\n",
       " 312183: ['no_data'],\n",
       " 318099: ['low_reporting_frequency'],\n",
       " 324682: ['low_reporting_frequency'],\n",
       " 327840: ['low_battery_voltage', 'low_reporting_frequency'],\n",
       " 403696: ['no_data']}"
      ]
     },
     "execution_count": 94,
     "metadata": {},
     "output_type": "execute_result"
    }
   ],
   "source": [
    "malfunctions"
   ]
  },
  {
   "cell_type": "code",
   "execution_count": 91,
   "metadata": {},
   "outputs": [
    {
     "ename": "AttributeError",
     "evalue": "'dict' object has no attribute 'key'",
     "output_type": "error",
     "traceback": [
      "\u001b[0;31m---------------------------------------------------------------------------\u001b[0m",
      "\u001b[0;31mAttributeError\u001b[0m                            Traceback (most recent call last)",
      "\u001b[0;32m<ipython-input-91-0073c11fa56a>\u001b[0m in \u001b[0;36m<module>\u001b[0;34m()\u001b[0m\n\u001b[1;32m      1\u001b[0m \u001b[0ma\u001b[0m \u001b[0;34m=\u001b[0m \u001b[0;34m{\u001b[0m\u001b[0;34m\"key\"\u001b[0m\u001b[0;34m:\u001b[0m \u001b[0;36m5\u001b[0m\u001b[0;34m}\u001b[0m\u001b[0;34m\u001b[0m\u001b[0m\n\u001b[0;32m----> 2\u001b[0;31m \u001b[0;32mprint\u001b[0m \u001b[0ma\u001b[0m\u001b[0;34m.\u001b[0m\u001b[0mkey\u001b[0m\u001b[0;34m\u001b[0m\u001b[0m\n\u001b[0m",
      "\u001b[0;31mAttributeError\u001b[0m: 'dict' object has no attribute 'key'"
     ]
    }
   ],
   "source": [
    "a = {\"key\": 5}\n",
    "print a.key"
   ]
  },
  {
   "cell_type": "code",
   "execution_count": null,
   "metadata": {},
   "outputs": [],
   "source": []
  }
 ],
 "metadata": {
  "kernelspec": {
   "display_name": "Python 2",
   "language": "python",
   "name": "python2"
  },
  "language_info": {
   "codemirror_mode": {
    "name": "ipython",
    "version": 2
   },
   "file_extension": ".py",
   "mimetype": "text/x-python",
   "name": "python",
   "nbconvert_exporter": "python",
   "pygments_lexer": "ipython2",
   "version": "2.7.10"
  }
 },
 "nbformat": 4,
 "nbformat_minor": 2
}
